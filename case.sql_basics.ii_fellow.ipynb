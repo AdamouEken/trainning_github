{
  "metadata": {
    "c1_recart": "7.44.0-57c20131aabc1dc2a8c675852d80a7da",
    "kernelspec": {
      "display_name": "SQLite",
      "language": "sql",
      "name": "SQLite"
    },
    "language_info": {
      "codemirror_mode": "sql",
      "file_extension": "",
      "mimetype": "",
      "name": "sql",
      "version": "3.32.3"
    }
  },
  "nbformat_minor": 4,
  "nbformat": 4,
  "cells": [
    {
      "cell_type": "markdown",
      "source": "# Murder in Sequel City: Dig deeper and find the culprit!",
      "metadata": {}
    },
    {
      "cell_type": "markdown",
      "source": "![scrutinize](data/images/scrutinize.jpg)",
      "metadata": {
        "tags": []
      }
    },
    {
      "cell_type": "markdown",
      "source": "## Goals\n\nBy the end of this lesson you will be able to communicate with a SQL database using new language elements useful for grouping, filtering and summarizing data. You will learn the following SQL elements:\n\n* Common Table Expressions (CTE),\n* Views,\n* aggregate functions,\n* `GROUP BY`,\n* `HAVING`, and\n* `CASE-WHEN`",
      "metadata": {}
    },
    {
      "cell_type": "markdown",
      "source": "## Introduction\n\n**Business Context**: In the previous case you decided to face the challenge of dusting a murder case. The evidence was saved in a relational database. It is time to unearth the clues stored in the database and dig deeper into the list of suspects. Sometimes things are not what they seem and it is necessary to analyze the evidence objectively, but without losing the nose that as an investigator you have developed over the years. \n\n**Business Problem**: Based on the evidence stored in the database you have to find out: **Who is the murderer?**\n\n**Analytical Context**: In this case, we will examine data from a relational database consisting of 7 tables with an average of 10,000 records per table. This is the same database as in the first part of the case.",
      "metadata": {}
    },
    {
      "cell_type": "markdown",
      "source": "## The sign of the four\n\nThese are our four suspects. How about digging through that list to get more information?\n\n|id|name|driver_id|address|ssn|income|id_1|age|gender|height|hair_color|eye_color|plate|car_make|car_model|car_model_year|\n|:----|:----|:----|:----|:----|:----|:----|:----|:----|:----|:----|:----|:----|:----|:----|:----|\n|45|Bron Fontanet|1008583170|70279 Ilene Hill|844-32-7352|59955.93|1008583170|78|Female|49|white|black|KSJ-33|Chevrolet|S10 Blazer|1992|\n|146|Hercule Durram|3736669879|019 Sherman Center|500-48-6973|42626.13|3736669879|58|Female|66|red|brown|BFW-03|Chevrolet|Express|2009|\n|647|Krista Fingleton|659712261|865 Mayfield Court|774-14-6683|71007.68|659712261|18|Male|48|white|brown|ONZ-43|Ford|Aerostar|1997|\n|981|Tris MacVagh|9927362927|8706 Blue Bill Park Junction|232-23-7588|45976.29|9927362927|66|Male|50|white|green|ZDI-13|Maserati|Spyder|1989|",
      "metadata": {}
    },
    {
      "cell_type": "markdown",
      "source": "We've already learned about the [SQLite](https://www.sqlite.org/index.html) file format, which is a very popular format for small databases.\n\nIn order to load the SQLite file (which you can find at [`data/crime_database.db`](data/crime_database.db), we need to import the `sqlalchemy` Python library and run some code (below). Don't worry about learning that code, it's not SQL.",
      "metadata": {}
    },
    {
      "cell_type": "code",
      "source": "%FETCH https://workspace-amz-da6.c1-learning.com/case.sql_basics_fellow/data/crime_database.db crime_database",
      "metadata": {
        "trusted": true
      },
      "execution_count": 1,
      "outputs": [
        {
          "name": "stdout",
          "text": "Start downloading from URL https://workspace-amz-da6.c1-learning.com/case.sql_basics_fellow/data/crime_database.db\nDownloading https://workspace-amz-da6.c1-learning.com/case.sql_basics_fellow/data/crime_database.db 0.074% complete\nDownloading https://workspace-amz-da6.c1-learning.com/case.sql_basics_fellow/data/crime_database.db 1e+02% complete\nFinished downloading 1384448 bytes from URL https://workspace-amz-da6.c1-learning.com/case.sql_basics_fellow/data/crime_database.db\nWriting downloaded data to file crime_database\nFinished writing file\n",
          "output_type": "stream"
        }
      ]
    },
    {
      "cell_type": "markdown",
      "source": "## The mysterious CTE affair\n\nThe query that returned the list of suspects was:\n\n``` python\nSELECT *\nFROM individual\nJOIN drivers ON individual.driver_id = drivers.id \nWHERE individual.id = 647 OR individual.id=146 OR individual.id=981 OR individual.id=45\n\n```\n\nThe examples that follow will be based on this list of suspects. The point is that we need to temporarily store these results and be able to perform queries on them. To do this we will use a fairly new feature in the SQL language: [**Common Table Expressions (CTE)**](https://www.sqlite.org/lang_with.html), also found under the name \"`WITH` queries\". CTE allow us to (1) work with a set of rows for the duration of a single statement and (2) write subqueries making the overall SQL statement easier to read and understand.\n\nThe structure of a CTE is:\n\n```sql\nWITH cte_name AS (cte_definition)\nSELECT …\nFROM cte_name;\n\n```\nBasically, CTEs let us assign a temporary name to a query and then reference that name in another query to avoid having to write code that is too complex. The cell below shows how to define a CTE named `cte_suspects` with the query that extracts the suspects. Notice how once you define the CTE, it is possible to make another query on those results.",
      "metadata": {}
    },
    {
      "cell_type": "code",
      "source": "%LOAD crime_database RW",
      "metadata": {
        "trusted": true
      },
      "execution_count": 3,
      "outputs": []
    },
    {
      "cell_type": "code",
      "source": "WITH cte_suspects AS \n( \n    SELECT *\n    FROM individual\n    JOIN drivers ON individual.driver_id = drivers.id \n    WHERE individual.id = 647 OR individual.id=146 OR individual.id=981 OR individual.id=45\n)\nSELECT * FROM cte_suspects;",
      "metadata": {
        "trusted": true
      },
      "execution_count": 4,
      "outputs": [
        {
          "execution_count": 4,
          "output_type": "execute_result",
          "data": {
            "text/html": "<table>\n<tr>\n<th>id</th>\n<th>name</th>\n<th>driver_id</th>\n<th>address</th>\n<th>ssn</th>\n<th>income</th>\n<th>id:1</th>\n<th>age</th>\n<th>gender</th>\n<th>height</th>\n<th>hair_color</th>\n<th>eye_color</th>\n<th>plate</th>\n<th>car_make</th>\n<th>car_model</th>\n<th>car_model_year</th>\n</tr>\n<tr>\n<td>45</td>\n<td>Bron Fontanet</td>\n<td>1008583170</td>\n<td>70279 Ilene Hill</td>\n<td>844-32-7352</td>\n<td>59955.93</td>\n<td>1008583170</td>\n<td>78</td>\n<td>Female</td>\n<td>49</td>\n<td>white</td>\n<td>black</td>\n<td>KSJ-33</td>\n<td>Chevrolet</td>\n<td>S10 Blazer</td>\n<td>1992</td>\n</tr>\n<tr>\n<td>146</td>\n<td>Hercule Durram</td>\n<td>3736669879</td>\n<td>019 Sherman Center</td>\n<td>500-48-6973</td>\n<td>42626.13</td>\n<td>3736669879</td>\n<td>58</td>\n<td>Female</td>\n<td>66</td>\n<td>red</td>\n<td>brown</td>\n<td>BFW-03</td>\n<td>Chevrolet</td>\n<td>Express</td>\n<td>2009</td>\n</tr>\n<tr>\n<td>647</td>\n<td>Krista Fingleton</td>\n<td>659712261</td>\n<td>865 Mayfield Court</td>\n<td>774-14-6683</td>\n<td>71007.68</td>\n<td>659712261</td>\n<td>18</td>\n<td>Male</td>\n<td>48</td>\n<td>white</td>\n<td>brown</td>\n<td>ONZ-43</td>\n<td>Ford</td>\n<td>Aerostar</td>\n<td>1997</td>\n</tr>\n<tr>\n<td>981</td>\n<td>Tris MacVagh</td>\n<td>9927362927</td>\n<td>8706 Blue Bill Park Junction</td>\n<td>232-23-7588</td>\n<td>45976.29</td>\n<td>9927362927</td>\n<td>66</td>\n<td>Male</td>\n<td>50</td>\n<td>white</td>\n<td>green</td>\n<td>ZDI-13</td>\n<td>Maserati</td>\n<td>Spyder</td>\n<td>1989</td>\n</tr>\n</table>",
            "text/plain": "+-----+------------------+------------+------------------------------+-------------+----------+------------+-----+--------+--------+------------+-----------+--------+-----------+------------+----------------+\n| id  | name             | driver_id  | address                      | ssn         | income   | id:1       | age | gender | height | hair_color | eye_color | plate  | car_make  | car_model  | car_model_year |\n+-----+------------------+------------+------------------------------+-------------+----------+------------+-----+--------+--------+------------+-----------+--------+-----------+------------+----------------+\n| 45  | Bron Fontanet    | 1008583170 | 70279 Ilene Hill             | 844-32-7352 | 59955.93 | 1008583170 | 78  | Female | 49     | white      | black     | KSJ-33 | Chevrolet | S10 Blazer | 1992           |\n+-----+------------------+------------+------------------------------+-------------+----------+------------+-----+--------+--------+------------+-----------+--------+-----------+------------+----------------+\n| 146 | Hercule Durram   | 3736669879 | 019 Sherman Center           | 500-48-6973 | 42626.13 | 3736669879 | 58  | Female | 66     | red        | brown     | BFW-03 | Chevrolet | Express    | 2009           |\n+-----+------------------+------------+------------------------------+-------------+----------+------------+-----+--------+--------+------------+-----------+--------+-----------+------------+----------------+\n| 647 | Krista Fingleton | 659712261  | 865 Mayfield Court           | 774-14-6683 | 71007.68 | 659712261  | 18  | Male   | 48     | white      | brown     | ONZ-43 | Ford      | Aerostar   | 1997           |\n+-----+------------------+------------+------------------------------+-------------+----------+------------+-----+--------+--------+------------+-----------+--------+-----------+------------+----------------+\n| 981 | Tris MacVagh     | 9927362927 | 8706 Blue Bill Park Junction | 232-23-7588 | 45976.29 | 9927362927 | 66  | Male   | 50     | white      | green     | ZDI-13 | Maserati  | Spyder     | 1989           |\n+-----+------------------+------------+------------------------------+-------------+----------+------------+-----+--------+--------+------------+-----------+--------+-----------+------------+----------------+"
          },
          "metadata": {}
        }
      ]
    },
    {
      "cell_type": "markdown",
      "source": "## The plaintiff's view\n\nCTEs have a limited scope. They are restricted to the query where they are called right after being created. To permanently store the results of a query, you can use **views**, which are similar to tables, with the difference that you create them from a query (not by inserting new data into the database). Let's create a view to permanently store our list of suspects based on the query above.",
      "metadata": {}
    },
    {
      "cell_type": "code",
      "source": "CREATE VIEW IF NOT EXISTS v_suspects AS\n    SELECT *\n    FROM individual JOIN drivers ON individual.driver_id = drivers.id \n    WHERE individual.id = 647 OR individual.id=146 OR individual.id=981 OR individual.id=45; ",
      "metadata": {},
      "execution_count": null,
      "outputs": []
    },
    {
      "cell_type": "markdown",
      "source": "Queries can be performed on views in the same way as with tables as shown below.",
      "metadata": {}
    },
    {
      "cell_type": "code",
      "source": "SELECT *\nFROM v_suspects;",
      "metadata": {},
      "execution_count": null,
      "outputs": []
    },
    {
      "cell_type": "markdown",
      "source": "## The `COUNT` of the Baskervilles\n\nIt could be useful for our investigation to explore some quick statistics of our suspect list, such as how many of them are female, or what is the average income. For this, SQL provides us with [**aggregate functions**](https://www.sqlitetutorial.net/sqlite-aggregate-functions/) such as `COUNT()`, `SUM()`, `AVG()`, `MIN()`, and `MAX()`.",
      "metadata": {}
    },
    {
      "cell_type": "markdown",
      "source": "### Example 1\n\nHow many of our suspects are female? With the knowledge we already have about SQL, we know that we just need to add a `WHERE` clause to filter the list of suspects by gender. ",
      "metadata": {}
    },
    {
      "cell_type": "code",
      "source": "SELECT * FROM v_suspects\nWHERE gender = 'Female';",
      "metadata": {
        "trusted": true
      },
      "execution_count": 5,
      "outputs": [
        {
          "execution_count": 5,
          "output_type": "execute_result",
          "data": {
            "text/html": "<table>\n<tr>\n<th>id</th>\n<th>name</th>\n<th>driver_id</th>\n<th>address</th>\n<th>ssn</th>\n<th>income</th>\n<th>id:1</th>\n<th>age</th>\n<th>gender</th>\n<th>height</th>\n<th>hair_color</th>\n<th>eye_color</th>\n<th>plate</th>\n<th>car_make</th>\n<th>car_model</th>\n<th>car_model_year</th>\n</tr>\n<tr>\n<td>45</td>\n<td>Bron Fontanet</td>\n<td>1008583170</td>\n<td>70279 Ilene Hill</td>\n<td>844-32-7352</td>\n<td>59955.93</td>\n<td>1008583170</td>\n<td>78</td>\n<td>Female</td>\n<td>49</td>\n<td>white</td>\n<td>black</td>\n<td>KSJ-33</td>\n<td>Chevrolet</td>\n<td>S10 Blazer</td>\n<td>1992</td>\n</tr>\n<tr>\n<td>146</td>\n<td>Hercule Durram</td>\n<td>3736669879</td>\n<td>019 Sherman Center</td>\n<td>500-48-6973</td>\n<td>42626.13</td>\n<td>3736669879</td>\n<td>58</td>\n<td>Female</td>\n<td>66</td>\n<td>red</td>\n<td>brown</td>\n<td>BFW-03</td>\n<td>Chevrolet</td>\n<td>Express</td>\n<td>2009</td>\n</tr>\n</table>",
            "text/plain": "+-----+----------------+------------+--------------------+-------------+----------+------------+-----+--------+--------+------------+-----------+--------+-----------+------------+----------------+\n| id  | name           | driver_id  | address            | ssn         | income   | id:1       | age | gender | height | hair_color | eye_color | plate  | car_make  | car_model  | car_model_year |\n+-----+----------------+------------+--------------------+-------------+----------+------------+-----+--------+--------+------------+-----------+--------+-----------+------------+----------------+\n| 45  | Bron Fontanet  | 1008583170 | 70279 Ilene Hill   | 844-32-7352 | 59955.93 | 1008583170 | 78  | Female | 49     | white      | black     | KSJ-33 | Chevrolet | S10 Blazer | 1992           |\n+-----+----------------+------------+--------------------+-------------+----------+------------+-----+--------+--------+------------+-----------+--------+-----------+------------+----------------+\n| 146 | Hercule Durram | 3736669879 | 019 Sherman Center | 500-48-6973 | 42626.13 | 3736669879 | 58  | Female | 66     | red        | brown     | BFW-03 | Chevrolet | Express    | 2009           |\n+-----+----------------+------------+--------------------+-------------+----------+------------+-----+--------+--------+------------+-----------+--------+-----------+------------+----------------+"
          },
          "metadata": {}
        }
      ]
    },
    {
      "cell_type": "markdown",
      "source": "There are two women in the data. This time it was easy-peasy because the number of rows is very small. But what if the table was very large? This is where aggregate functions come in handy. `COUNT` is one of such. You call it like this: `COUNT(*)`, and it returns the number of rows of a query. Execute the cell below to see it in action:",
      "metadata": {}
    },
    {
      "cell_type": "code",
      "source": "SELECT COUNT(*) \nFROM v_suspects\nWHERE gender = 'Female';",
      "metadata": {
        "trusted": true
      },
      "execution_count": 6,
      "outputs": [
        {
          "execution_count": 6,
          "output_type": "execute_result",
          "data": {
            "text/html": "<table>\n<tr>\n<th>COUNT(*)</th>\n</tr>\n<tr>\n<td>2</td>\n</tr>\n</table>",
            "text/plain": "+----------+\n| COUNT(*) |\n+----------+\n| 2        |\n+----------+"
          },
          "metadata": {}
        }
      ]
    },
    {
      "cell_type": "markdown",
      "source": "### Exercise 1\nWrite a query to find out how many drivers are recorded as male.\n\n**Hint:** The relevant table is `drivers`.",
      "metadata": {}
    },
    {
      "cell_type": "code",
      "source": "SELECT COUNT(*) FROM drivers\nWHERE gender = 'Male';",
      "metadata": {
        "tags": [
          "ans_st"
        ],
        "trusted": true
      },
      "execution_count": 7,
      "outputs": [
        {
          "execution_count": 7,
          "output_type": "execute_result",
          "data": {
            "text/html": "<table>\n<tr>\n<th>COUNT(*)</th>\n</tr>\n<tr>\n<td>497</td>\n</tr>\n</table>",
            "text/plain": "+----------+\n| COUNT(*) |\n+----------+\n| 497      |\n+----------+"
          },
          "metadata": {}
        }
      ]
    },
    {
      "cell_type": "markdown",
      "source": "### Example 2\n\nWe often use aggregate functions like `COUNT` with a **`GROUP BY`** clause to group the results by one or more columns. A `GROUP BY` groups together rows that have the same values. It is always used after the `WHERE` clause.\n\nLet's learn more about our suspects. What is the average income for men and women? To solve this question we need to calculate the average using the `AVG` function and then group our suspects according to their gender using a `GROUP BY` clause, like below:",
      "metadata": {}
    },
    {
      "cell_type": "code",
      "source": "SELECT gender, AVG(income)\nFROM v_suspects\nGROUP BY gender;",
      "metadata": {
        "trusted": true
      },
      "execution_count": 8,
      "outputs": [
        {
          "execution_count": 8,
          "output_type": "execute_result",
          "data": {
            "text/html": "<table>\n<tr>\n<th>gender</th>\n<th>AVG(income)</th>\n</tr>\n<tr>\n<td>Female</td>\n<td>51291.03</td>\n</tr>\n<tr>\n<td>Male</td>\n<td>58491.985</td>\n</tr>\n</table>",
            "text/plain": "+--------+-------------+\n| gender | AVG(income) |\n+--------+-------------+\n| Female | 51291.03    |\n+--------+-------------+\n| Male   | 58491.985   |\n+--------+-------------+"
          },
          "metadata": {}
        }
      ]
    },
    {
      "cell_type": "markdown",
      "source": "Let's change the name of the second column to make it a bit prettier. To assign a new column name in a query, we use the `AS` keyword:",
      "metadata": {}
    },
    {
      "cell_type": "code",
      "source": "SELECT gender, AVG(income) AS average_income\nFROM v_suspects\nGROUP BY gender;",
      "metadata": {
        "trusted": true
      },
      "execution_count": 9,
      "outputs": [
        {
          "execution_count": 9,
          "output_type": "execute_result",
          "data": {
            "text/html": "<table>\n<tr>\n<th>gender</th>\n<th>average_income</th>\n</tr>\n<tr>\n<td>Female</td>\n<td>51291.03</td>\n</tr>\n<tr>\n<td>Male</td>\n<td>58491.985</td>\n</tr>\n</table>",
            "text/plain": "+--------+----------------+\n| gender | average_income |\n+--------+----------------+\n| Female | 51291.03       |\n+--------+----------------+\n| Male   | 58491.985      |\n+--------+----------------+"
          },
          "metadata": {}
        }
      ]
    },
    {
      "cell_type": "markdown",
      "source": "### Exercise 2\n\nUse the`MAX` function to find the name of the oldest suspect. Use our list of suspects `v_suspects` and the `age` column.",
      "metadata": {}
    },
    {
      "cell_type": "code",
      "source": "SELECT name, MAX(age) AS oldest\nFROM v_suspects;\nname oldest Bron Fontanet 78;",
      "metadata": {
        "tags": [
          "ans_st"
        ],
        "trusted": true
      },
      "execution_count": 13,
      "outputs": [
        {
          "execution_count": 13,
          "output_type": "execute_result",
          "data": {
            "text/html": "<table>\n<tr>\n<th>name</th>\n<th>oldest</th>\n</tr>\n<tr>\n<td>Bron Fontanet</td>\n<td>78</td>\n</tr>\n</table>",
            "text/plain": "+---------------+--------+\n| name          | oldest |\n+---------------+--------+\n| Bron Fontanet | 78     |\n+---------------+--------+"
          },
          "metadata": {}
        }
      ]
    },
    {
      "cell_type": "markdown",
      "source": "### Example 3\nSQL allows us to add conditional logic to a query. For example, if we want to classify our suspects by age into three categories: young adult, adult, and senior, we can use the [`CASE - WHEN`](https://www.sqlitetutorial.net/sqlite-case/) pattern as shown in the following cell:",
      "metadata": {}
    },
    {
      "cell_type": "markdown",
      "source": "**Answer.** Shown below:",
      "metadata": {}
    },
    {
      "cell_type": "code",
      "source": "SELECT name, \n       age,\n       CASE\n            WHEN (age >= 18 AND age <=25)\n                THEN 'Young adult'\n            WHEN (age > 25 AND age <65)\n                THEN 'Adult'\n            ELSE 'Senior' \n        END suspect_group\nFROM \n    v_suspects;",
      "metadata": {
        "trusted": true
      },
      "execution_count": 14,
      "outputs": [
        {
          "execution_count": 14,
          "output_type": "execute_result",
          "data": {
            "text/html": "<table>\n<tr>\n<th>name</th>\n<th>age</th>\n<th>suspect_group</th>\n</tr>\n<tr>\n<td>Bron Fontanet</td>\n<td>78</td>\n<td>Senior</td>\n</tr>\n<tr>\n<td>Hercule Durram</td>\n<td>58</td>\n<td>Adult</td>\n</tr>\n<tr>\n<td>Krista Fingleton</td>\n<td>18</td>\n<td>Young adult</td>\n</tr>\n<tr>\n<td>Tris MacVagh</td>\n<td>66</td>\n<td>Senior</td>\n</tr>\n</table>",
            "text/plain": "+------------------+-----+---------------+\n| name             | age | suspect_group |\n+------------------+-----+---------------+\n| Bron Fontanet    | 78  | Senior        |\n+------------------+-----+---------------+\n| Hercule Durram   | 58  | Adult         |\n+------------------+-----+---------------+\n| Krista Fingleton | 18  | Young adult   |\n+------------------+-----+---------------+\n| Tris MacVagh     | 66  | Senior        |\n+------------------+-----+---------------+"
          },
          "metadata": {}
        }
      ]
    },
    {
      "cell_type": "markdown",
      "source": "To know how many suspects are in each category, we can add `COUNT` along with `GROUP BY` to the query. Below we wrote a `CASE-END` to create the `suspect_group` column and then counted how many records there are in each category with `GROUPBY` and `COUNT`:",
      "metadata": {}
    },
    {
      "cell_type": "code",
      "source": "SELECT CASE\n            WHEN (age >= 18 AND age <=25)\n                THEN 'Young adult'\n            WHEN (age > 25 AND age <65)\n                THEN 'Adult'\n            ELSE 'Senior' \n        END suspect_group,\n        COUNT(*) as total\nFROM \n    v_suspects\nGROUP BY (suspect_group);",
      "metadata": {
        "trusted": true
      },
      "execution_count": 15,
      "outputs": [
        {
          "execution_count": 15,
          "output_type": "execute_result",
          "data": {
            "text/html": "<table>\n<tr>\n<th>suspect_group</th>\n<th>total</th>\n</tr>\n<tr>\n<td>Adult</td>\n<td>1</td>\n</tr>\n<tr>\n<td>Senior</td>\n<td>2</td>\n</tr>\n<tr>\n<td>Young adult</td>\n<td>1</td>\n</tr>\n</table>",
            "text/plain": "+---------------+-------+\n| suspect_group | total |\n+---------------+-------+\n| Adult         | 1     |\n+---------------+-------+\n| Senior        | 2     |\n+---------------+-------+\n| Young adult   | 1     |\n+---------------+-------+"
          },
          "metadata": {}
        }
      ]
    },
    {
      "cell_type": "markdown",
      "source": "### Exercise 3\n\nWrite a query to classify all the people from the `individual` table according to their income brackets:\n\n| income_group   | Boundaries                           |   |   |   |\n|--------|----------------------------------|---|---|---|\n| Low    | less than 35,000                  |   |   |   |\n| Medium | between 35,000 and 50,000, inclusive |   |   |   |\n| High   | More than 50,000                  |   |   |   |\n\nHow many people are there in each category?",
      "metadata": {}
    },
    {
      "cell_type": "code",
      "source": "SELECT  CASE\n            WHEN income < 35000\n                THEN 'Low'\n            WHEN income >= 35000 AND income <=50000\n                THEN 'Medium'\n            ELSE 'High'\n        END income_group,\n        COUNT(*)\nFROM\n    individual\nGROUP BY income_group;\n",
      "metadata": {
        "tags": [
          "ans_st"
        ],
        "trusted": true
      },
      "execution_count": 16,
      "outputs": [
        {
          "execution_count": 16,
          "output_type": "execute_result",
          "data": {
            "text/html": "<table>\n<tr>\n<th>income_group</th>\n<th>COUNT(*)</th>\n</tr>\n<tr>\n<td>High</td>\n<td>698</td>\n</tr>\n<tr>\n<td>Low</td>\n<td>79</td>\n</tr>\n<tr>\n<td>Medium</td>\n<td>223</td>\n</tr>\n</table>",
            "text/plain": "+--------------+----------+\n| income_group | COUNT(*) |\n+--------------+----------+\n| High         | 698      |\n+--------------+----------+\n| Low          | 79       |\n+--------------+----------+\n| Medium       | 223      |\n+--------------+----------+"
          },
          "metadata": {}
        }
      ]
    },
    {
      "cell_type": "markdown",
      "source": "### Example 4\n\nWhat if we wanted to filter the results of a grouped query? SQL allows us to add extra conditions to the grouped query with the `WHERE` clause.\n\nReturning to Example 3, suppose we want to know how many *male* suspects there are by age range. In this case we add the `WHERE` clause to the query before the `GROUP BY` like this:",
      "metadata": {}
    },
    {
      "cell_type": "code",
      "source": "SELECT\n       CASE\n            WHEN (age >= 18 AND age <=25)\n                THEN 'Young adult'\n            WHEN (age > 25 AND age <65)\n                THEN 'Adult'\n            ELSE 'Senior' \n        END suspect_group,\n        COUNT(*) as total\nFROM \n    v_suspects\nWHERE gender = 'Male'\nGROUP BY (suspect_group);",
      "metadata": {
        "trusted": true
      },
      "execution_count": 17,
      "outputs": [
        {
          "execution_count": 17,
          "output_type": "execute_result",
          "data": {
            "text/html": "<table>\n<tr>\n<th>suspect_group</th>\n<th>total</th>\n</tr>\n<tr>\n<td>Senior</td>\n<td>1</td>\n</tr>\n<tr>\n<td>Young adult</td>\n<td>1</td>\n</tr>\n</table>",
            "text/plain": "+---------------+-------+\n| suspect_group | total |\n+---------------+-------+\n| Senior        | 1     |\n+---------------+-------+\n| Young adult   | 1     |\n+---------------+-------+"
          },
          "metadata": {}
        }
      ]
    },
    {
      "cell_type": "markdown",
      "source": "---\n\nSQL also allows us to add constraints on the *grouped* results with the **`HAVING`** clause. There is a difference between using the `HAVING` and `WHERE` clauses. Suppose we want to know, after adding up the incomes by gender, which gender has more than $105,000 collectively. Let's write the basic query using `SUM` and `GROUP BY`:",
      "metadata": {}
    },
    {
      "cell_type": "code",
      "source": "SELECT SUM(income) as total_income, gender\nFROM v_suspects\nGROUP BY (gender);",
      "metadata": {
        "trusted": true
      },
      "execution_count": 18,
      "outputs": [
        {
          "execution_count": 18,
          "output_type": "execute_result",
          "data": {
            "text/html": "<table>\n<tr>\n<th>total_income</th>\n<th>gender</th>\n</tr>\n<tr>\n<td>102582.06</td>\n<td>Female</td>\n</tr>\n<tr>\n<td>116983.97</td>\n<td>Male</td>\n</tr>\n</table>",
            "text/plain": "+--------------+--------+\n| total_income | gender |\n+--------------+--------+\n| 102582.06    | Female |\n+--------------+--------+\n| 116983.97    | Male   |\n+--------------+--------+"
          },
          "metadata": {}
        }
      ]
    },
    {
      "cell_type": "markdown",
      "source": "Let's use SQL to determine which gender exceeds $105,000 (the answer is obvious in this very simple query, but that isn't always the case!).\n\nWe run the cell below and notice that if we filter the query with the `WHERE` clause we get no results because the `WHERE` is filtering by the income of each row (individual values) and we know that *none* of our suspects earn more than $105,000. ",
      "metadata": {}
    },
    {
      "cell_type": "code",
      "source": "SELECT SUM(income) as total_income, gender\nFROM v_suspects\nWHERE income > 105000\nGROUP BY (gender);",
      "metadata": {
        "trusted": true
      },
      "execution_count": 19,
      "outputs": [
        {
          "execution_count": 19,
          "output_type": "execute_result",
          "data": {
            "text/html": "<table>\n<tr>\n<th>total_income</th>\n<th>gender</th>\n</tr>\n</table>",
            "text/plain": "+--------------+--------+\n| total_income | gender |\n+--------------+--------+"
          },
          "metadata": {}
        }
      ]
    },
    {
      "cell_type": "markdown",
      "source": "If we use `HAVING` instead, we get the answer. Notice that we are using the aggregate column to make the filter, which means that *`HAVING` filters on the aggregate results*. In other words, `HAVING` applies the conditions to the grouped values, not the individual values in the individual rows (notice that the `HAVING` clause is always used after the `GROUP BY` clause).  ",
      "metadata": {}
    },
    {
      "cell_type": "code",
      "source": "SELECT SUM(income) as total_income, gender\nFROM v_suspects\nGROUP BY (gender)\nHAVING total_income > 105000;",
      "metadata": {
        "trusted": true
      },
      "execution_count": 20,
      "outputs": [
        {
          "execution_count": 20,
          "output_type": "execute_result",
          "data": {
            "text/html": "<table>\n<tr>\n<th>total_income</th>\n<th>gender</th>\n</tr>\n<tr>\n<td>116983.97</td>\n<td>Male</td>\n</tr>\n</table>",
            "text/plain": "+--------------+--------+\n| total_income | gender |\n+--------------+--------+\n| 116983.97    | Male   |\n+--------------+--------+"
          },
          "metadata": {}
        }
      ]
    },
    {
      "cell_type": "markdown",
      "source": "### Exercise 4\nWrite a query to calculate how many drivers there are by hair color. ",
      "metadata": {}
    },
    {
      "cell_type": "code",
      "source": "SELECT hair_color, COUNT(*) AS num\nFROM drivers\nGROUP BY hair_color;",
      "metadata": {
        "tags": [
          "ans_st"
        ],
        "trusted": true
      },
      "execution_count": 21,
      "outputs": [
        {
          "execution_count": 21,
          "output_type": "execute_result",
          "data": {
            "text/html": "<table>\n<tr>\n<th>hair_color</th>\n<th>num</th>\n</tr>\n<tr>\n<td>black</td>\n<td>202</td>\n</tr>\n<tr>\n<td>blonde</td>\n<td>191</td>\n</tr>\n<tr>\n<td>brown</td>\n<td>200</td>\n</tr>\n<tr>\n<td>red</td>\n<td>205</td>\n</tr>\n<tr>\n<td>white</td>\n<td>202</td>\n</tr>\n</table>",
            "text/plain": "+------------+-----+\n| hair_color | num |\n+------------+-----+\n| black      | 202 |\n+------------+-----+\n| blonde     | 191 |\n+------------+-----+\n| brown      | 200 |\n+------------+-----+\n| red        | 205 |\n+------------+-----+\n| white      | 202 |\n+------------+-----+"
          },
          "metadata": {}
        }
      ]
    },
    {
      "cell_type": "markdown",
      "source": "### Exercise 5\n\nModify the above query to count how many drivers there are for each hair color category. Filter the results to only show those categories with more than 200 drivers.",
      "metadata": {}
    },
    {
      "cell_type": "code",
      "source": "SELECT hair_color, COUNT(*) AS num\nFROM drivers\nGROUP BY hair_color\nHAVING num > 200;",
      "metadata": {
        "tags": [
          "ans_st"
        ],
        "trusted": true
      },
      "execution_count": 22,
      "outputs": [
        {
          "execution_count": 22,
          "output_type": "execute_result",
          "data": {
            "text/html": "<table>\n<tr>\n<th>hair_color</th>\n<th>num</th>\n</tr>\n<tr>\n<td>black</td>\n<td>202</td>\n</tr>\n<tr>\n<td>red</td>\n<td>205</td>\n</tr>\n<tr>\n<td>white</td>\n<td>202</td>\n</tr>\n</table>",
            "text/plain": "+------------+-----+\n| hair_color | num |\n+------------+-----+\n| black      | 202 |\n+------------+-----+\n| red        | 205 |\n+------------+-----+\n| white      | 202 |\n+------------+-----+"
          },
          "metadata": {}
        }
      ]
    },
    {
      "cell_type": "markdown",
      "source": "## [The final problem](https://en.wikipedia.org/wiki/The_Final_Problem)\n\nHere we have all the data of our prime suspect: Tris MacVagh who has a car with a license plate beginning with ZDI. Let's go deeper into his testimony.",
      "metadata": {}
    },
    {
      "cell_type": "code",
      "source": "SELECT *\nFROM individual i JOIN drivers d ON i.driver_id = d.id \nWHERE i.id = 981;",
      "metadata": {
        "trusted": true
      },
      "execution_count": 23,
      "outputs": [
        {
          "execution_count": 23,
          "output_type": "execute_result",
          "data": {
            "text/html": "<table>\n<tr>\n<th>id</th>\n<th>name</th>\n<th>driver_id</th>\n<th>address</th>\n<th>ssn</th>\n<th>income</th>\n<th>id</th>\n<th>age</th>\n<th>gender</th>\n<th>height</th>\n<th>hair_color</th>\n<th>eye_color</th>\n<th>plate</th>\n<th>car_make</th>\n<th>car_model</th>\n<th>car_model_year</th>\n</tr>\n<tr>\n<td>981</td>\n<td>Tris MacVagh</td>\n<td>9927362927</td>\n<td>8706 Blue Bill Park Junction</td>\n<td>232-23-7588</td>\n<td>45976.29</td>\n<td>9927362927</td>\n<td>66</td>\n<td>Male</td>\n<td>50</td>\n<td>white</td>\n<td>green</td>\n<td>ZDI-13</td>\n<td>Maserati</td>\n<td>Spyder</td>\n<td>1989</td>\n</tr>\n</table>",
            "text/plain": "+-----+--------------+------------+------------------------------+-------------+----------+------------+-----+--------+--------+------------+-----------+--------+----------+-----------+----------------+\n| id  | name         | driver_id  | address                      | ssn         | income   | id         | age | gender | height | hair_color | eye_color | plate  | car_make | car_model | car_model_year |\n+-----+--------------+------------+------------------------------+-------------+----------+------------+-----+--------+--------+------------+-----------+--------+----------+-----------+----------------+\n| 981 | Tris MacVagh | 9927362927 | 8706 Blue Bill Park Junction | 232-23-7588 | 45976.29 | 9927362927 | 66  | Male   | 50     | white      | green     | ZDI-13 | Maserati | Spyder    | 1989           |\n+-----+--------------+------------+------------------------------+-------------+----------+------------+-----+--------+--------+------------+-----------+--------+----------+-----------+----------------+"
          },
          "metadata": {}
        }
      ]
    },
    {
      "cell_type": "code",
      "source": "SELECT description\nFROM interrogation\nWHERE individual_id=981;",
      "metadata": {
        "trusted": true
      },
      "execution_count": 24,
      "outputs": [
        {
          "execution_count": 24,
          "output_type": "execute_result",
          "data": {
            "text/html": "<table>\n<tr>\n<th>description</th>\n</tr>\n<tr>\n<td>I did not know the deceased. I was just following orders. I met a woman on a blind date who I really liked. She promised me that if I killed the guy she would be with me forever. I believed her, but then she disappeared and is not answering my calls. I remember her hair was blonde and her eyes were green. She said goodbye to me and I watched her drive away in a Pontiac. On our date she mentioned her love of private rock concerts and said she had not been to one since 2016.</td>\n</tr>\n</table>",
            "text/plain": "+-----------------------------------------------------------------------------------------------------------------------------------------------------------------------------------------------------------------------------------------------------------------------------------------------------------------------------------------------------------------------------------------------------------------------------------------------------------------------------------------------+\n| description                                                                                                                                                                                                                                                                                                                                                                                                                                                                                   |\n+-----------------------------------------------------------------------------------------------------------------------------------------------------------------------------------------------------------------------------------------------------------------------------------------------------------------------------------------------------------------------------------------------------------------------------------------------------------------------------------------------+\n| I did not know the deceased. I was just following orders. I met a woman on a blind date who I really liked. She promised me that if I killed the guy she would be with me forever. I believed her, but then she disappeared and is not answering my calls. I remember her hair was blonde and her eyes were green. She said goodbye to me and I watched her drive away in a Pontiac. On our date she mentioned her love of private rock concerts and said she had not been to one since 2016. |\n+-----------------------------------------------------------------------------------------------------------------------------------------------------------------------------------------------------------------------------------------------------------------------------------------------------------------------------------------------------------------------------------------------------------------------------------------------------------------------------------------------+"
          },
          "metadata": {}
        }
      ]
    },
    {
      "cell_type": "markdown",
      "source": "### Exercise 6\n\nFollow the clues to discover the real killer. Start by writing a query that does a `JOIN` between the `individual` and `drivers` tables.\n\n**Hint**. Use the `gender`, `hair_color`, `eye_color`, and `car_make` columns.",
      "metadata": {}
    },
    {
      "cell_type": "code",
      "source": "SELECT i.id, i.name, i.ssn, d.gender, d.hair_color, d.car_make\nFROM individual i JOIN drivers d ON i.driver_id = d.id\nWHERE d.gender = 'Female' AND d.hair_color = 'blonde' AND d.eye_color = 'green' AND car_make='Pontiac';",
      "metadata": {
        "tags": [
          "ans_st"
        ],
        "trusted": true
      },
      "execution_count": 25,
      "outputs": [
        {
          "execution_count": 25,
          "output_type": "execute_result",
          "data": {
            "text/html": "<table>\n<tr>\n<th>id</th>\n<th>name</th>\n<th>ssn</th>\n<th>gender</th>\n<th>hair_color</th>\n<th>car_make</th>\n</tr>\n<tr>\n<td>264</td>\n<td>Dukie Oland</td>\n<td>513-18-8720</td>\n<td>Female</td>\n<td>blonde</td>\n<td>Pontiac</td>\n</tr>\n<tr>\n<td>402</td>\n<td>Berry Esmead</td>\n<td>847-02-0397</td>\n<td>Female</td>\n<td>blonde</td>\n<td>Pontiac</td>\n</tr>\n<tr>\n<td>514</td>\n<td>Kiah Duggen</td>\n<td>107-22-7960</td>\n<td>Female</td>\n<td>blonde</td>\n<td>Pontiac</td>\n</tr>\n</table>",
            "text/plain": "+-----+--------------+-------------+--------+------------+----------+\n| id  | name         | ssn         | gender | hair_color | car_make |\n+-----+--------------+-------------+--------+------------+----------+\n| 264 | Dukie Oland  | 513-18-8720 | Female | blonde     | Pontiac  |\n+-----+--------------+-------------+--------+------------+----------+\n| 402 | Berry Esmead | 847-02-0397 | Female | blonde     | Pontiac  |\n+-----+--------------+-------------+--------+------------+----------+\n| 514 | Kiah Duggen  | 107-22-7960 | Female | blonde     | Pontiac  |\n+-----+--------------+-------------+--------+------------+----------+"
          },
          "metadata": {}
        }
      ]
    },
    {
      "cell_type": "markdown",
      "source": "### Exercise 7\n\nWrite a CTE query based on the query from the previous exercise. Name the query as `cte_prime_suspect`. Then write a `JOIN` with the `facebook_event` table based on the clues.",
      "metadata": {}
    },
    {
      "cell_type": "code",
      "source": "WITH cte_prime_suspect AS\n(\n    SELECT i.id, i.name, i.ssn, d.gender, d.hair_color, d.car_make\n    FROM individual i JOIN drivers d ON i.driver_id = d.id\n    WHERE d.gender = 'Female' AND d.hair_color = 'blonde' AND d.eye_color = 'green' AND car_make='Pontiac'\n)\nSELECT *\nFROM cte_prime_suspect m JOIN\nfacebook_event f ON f.individual_id = m.id\nWHERE event_description LIKE '%rock%' AND date  LIKE '%2016%';",
      "metadata": {
        "tags": [
          "ans_st"
        ],
        "trusted": true
      },
      "execution_count": 26,
      "outputs": [
        {
          "execution_count": 26,
          "output_type": "execute_result",
          "data": {
            "text/html": "<table>\n<tr>\n<th>id</th>\n<th>name</th>\n<th>ssn</th>\n<th>gender</th>\n<th>hair_color</th>\n<th>car_make</th>\n<th>individual_id</th>\n<th>event_id</th>\n<th>event_description</th>\n<th>date</th>\n</tr>\n<tr>\n<td>402</td>\n<td>Berry Esmead</td>\n<td>847-02-0397</td>\n<td>Female</td>\n<td>blonde</td>\n<td>Pontiac</td>\n<td>402</td>\n<td>290</td>\n<td>Private rock concert</td>\n<td>2016-12-20</td>\n</tr>\n</table>",
            "text/plain": "+-----+--------------+-------------+--------+------------+----------+---------------+----------+----------------------+------------+\n| id  | name         | ssn         | gender | hair_color | car_make | individual_id | event_id | event_description    | date       |\n+-----+--------------+-------------+--------+------------+----------+---------------+----------+----------------------+------------+\n| 402 | Berry Esmead | 847-02-0397 | Female | blonde     | Pontiac  | 402           | 290      | Private rock concert | 2016-12-20 |\n+-----+--------------+-------------+--------+------------+----------+---------------+----------+----------------------+------------+"
          },
          "metadata": {}
        }
      ]
    },
    {
      "cell_type": "markdown",
      "source": "Congratulations! You solved the mystery!",
      "metadata": {}
    },
    {
      "cell_type": "markdown",
      "source": "## Takeaways & conclusion\n\nIn this case we learned about:\n\n**Common Table Expression (CTE)**\n```sql\nWITH cte_name AS (cte_definition)\nSELECT …\nFROM cte_name;\n\n```\n**Aggregate Functions**\n\n- `COUNT()` - counts rows in a specified column or table\n- `SUM()` - calculates the sum of values\n- `AVG()` - calculates the average of a set of values\n- `MIN()` - gets the minimum value in a set of values\n- `MAX()` - gets the maximum value in a set of values\n\n**`GROUP BY`** - Combines rows with identical values, often used in combination with aggregate functions\n\n**`HAVING`** - Filters on aggregate results\n\n**`CASE - WHEN`** -\n```sql\nCASE\n    WHEN ComparsionCondition THEN result\n    WHEN ComparsionCondition THEN result\n    ELSE other\n END\n```\n",
      "metadata": {}
    },
    {
      "cell_type": "markdown",
      "source": "## Attribution\n\n\"Scrutinize\", Ethan Sees, CC-0, https://www.pexels.com/es-es/buscar/escudri%C3%B1ar/",
      "metadata": {}
    }
  ]
}